{
 "cells": [
  {
   "cell_type": "code",
   "execution_count": 1,
   "metadata": {},
   "outputs": [],
   "source": [
    "import pandas as pd\n",
    "import seaborn as sb"
   ]
  },
  {
   "cell_type": "code",
   "execution_count": 54,
   "metadata": {},
   "outputs": [],
   "source": [
    "import requests\n",
    "import sys\n",
    "import csv\n",
    "import datetime\n",
    "\n",
    "def generate_csv(code):\n",
    "    url = \"https://thevirustracker.com/free-api?countryTimeline=\" + code\n",
    "\n",
    "    r = requests.get(url, headers={\"User-Agent\": \"XY\"})\n",
    "\n",
    "    data = r.json()\n",
    "    keys = data['timelineitems'][0].keys()\n",
    "    length = len(keys)\n",
    "    name = \"covid\" + code + \".csv\"\n",
    "    with open(name, 'w', newline='') as file:\n",
    "                writer = csv.writer(file)\n",
    "                for key in keys:\n",
    "                    if length > 2:\n",
    "                        row = []\n",
    "                        x = datetime.datetime.strptime(key, '%m/%d/%Y')\n",
    "                        xn = x - datetime.timedelta(days=1)\n",
    "                        date = xn.strftime(\"%m/%d/%Y\")\n",
    "                        row.append(date)\n",
    "                        row.append(data['timelineitems'][0][key]['total_cases'])\n",
    "                        row.append(data['timelineitems'][0][key]['new_daily_cases'])\n",
    "                        row.append(data['timelineitems'][0][key]['new_daily_deaths'])\n",
    "                        row.append(data['timelineitems'][0][key]['total_deaths'])\n",
    "                        row.append(data['timelineitems'][0][key]['total_recoveries'])\n",
    "                        writer.writerow(row)\n",
    "                        length-=1"
   ]
  },
  {
   "cell_type": "code",
   "execution_count": 55,
   "metadata": {},
   "outputs": [],
   "source": [
    "generate_csv(\"PT\")"
   ]
  },
  {
   "cell_type": "code",
   "execution_count": 56,
   "metadata": {},
   "outputs": [
    {
     "data": {
      "text/html": [
       "<div>\n",
       "<style scoped>\n",
       "    .dataframe tbody tr th:only-of-type {\n",
       "        vertical-align: middle;\n",
       "    }\n",
       "\n",
       "    .dataframe tbody tr th {\n",
       "        vertical-align: top;\n",
       "    }\n",
       "\n",
       "    .dataframe thead th {\n",
       "        text-align: right;\n",
       "    }\n",
       "</style>\n",
       "<table border=\"1\" class=\"dataframe\">\n",
       "  <thead>\n",
       "    <tr style=\"text-align: right;\">\n",
       "      <th></th>\n",
       "      <th>Date</th>\n",
       "      <th>Total_Cases</th>\n",
       "      <th>New_Daily_Cases</th>\n",
       "      <th>New_Daily_Deaths</th>\n",
       "      <th>Total_Deaths</th>\n",
       "      <th>Total_Recoveries</th>\n",
       "    </tr>\n",
       "  </thead>\n",
       "  <tbody>\n",
       "    <tr>\n",
       "      <th>0</th>\n",
       "      <td>03/01/2020</td>\n",
       "      <td>2</td>\n",
       "      <td>2</td>\n",
       "      <td>0</td>\n",
       "      <td>0</td>\n",
       "      <td>0</td>\n",
       "    </tr>\n",
       "    <tr>\n",
       "      <th>1</th>\n",
       "      <td>03/02/2020</td>\n",
       "      <td>2</td>\n",
       "      <td>0</td>\n",
       "      <td>0</td>\n",
       "      <td>0</td>\n",
       "      <td>0</td>\n",
       "    </tr>\n",
       "    <tr>\n",
       "      <th>2</th>\n",
       "      <td>03/03/2020</td>\n",
       "      <td>5</td>\n",
       "      <td>3</td>\n",
       "      <td>0</td>\n",
       "      <td>0</td>\n",
       "      <td>0</td>\n",
       "    </tr>\n",
       "    <tr>\n",
       "      <th>3</th>\n",
       "      <td>03/04/2020</td>\n",
       "      <td>9</td>\n",
       "      <td>4</td>\n",
       "      <td>0</td>\n",
       "      <td>0</td>\n",
       "      <td>0</td>\n",
       "    </tr>\n",
       "    <tr>\n",
       "      <th>4</th>\n",
       "      <td>03/05/2020</td>\n",
       "      <td>13</td>\n",
       "      <td>4</td>\n",
       "      <td>0</td>\n",
       "      <td>0</td>\n",
       "      <td>0</td>\n",
       "    </tr>\n",
       "  </tbody>\n",
       "</table>\n",
       "</div>"
      ],
      "text/plain": [
       "         Date  Total_Cases  New_Daily_Cases  New_Daily_Deaths  Total_Deaths  \\\n",
       "0  03/01/2020            2                2                 0             0   \n",
       "1  03/02/2020            2                0                 0             0   \n",
       "2  03/03/2020            5                3                 0             0   \n",
       "3  03/04/2020            9                4                 0             0   \n",
       "4  03/05/2020           13                4                 0             0   \n",
       "\n",
       "   Total_Recoveries  \n",
       "0                 0  \n",
       "1                 0  \n",
       "2                 0  \n",
       "3                 0  \n",
       "4                 0  "
      ]
     },
     "execution_count": 56,
     "metadata": {},
     "output_type": "execute_result"
    }
   ],
   "source": [
    "data = pd.read_csv('covid.csv')\n",
    "data.columns = ['Date','Total_Cases','New_Daily_Cases','New_Daily_Deaths','Total_Deaths','Total_Recoveries']\n",
    "data.head()"
   ]
  },
  {
   "cell_type": "code",
   "execution_count": null,
   "metadata": {},
   "outputs": [],
   "source": [
    "x = datetime.datetime.strptime(\"02/29/2020\", '%m/%d/%Y')\n",
    "xn = x - datetime.timedelta(days=1)\n",
    "date = xn.strftime(\"%m/%d/%Y\")"
   ]
  }
 ],
 "metadata": {
  "kernelspec": {
   "display_name": "Python 3.7.4 64-bit ('base': conda)",
   "language": "python",
   "name": "python37464bitbaseconda9372eea3c76d4133880fd0ae9a86542b"
  },
  "language_info": {
   "codemirror_mode": {
    "name": "ipython",
    "version": 3
   },
   "file_extension": ".py",
   "mimetype": "text/x-python",
   "name": "python",
   "nbconvert_exporter": "python",
   "pygments_lexer": "ipython3",
   "version": "3.7.6"
  }
 },
 "nbformat": 4,
 "nbformat_minor": 4
}
