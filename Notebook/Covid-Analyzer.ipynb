{
 "cells": [
  {
   "cell_type": "code",
   "execution_count": 72,
   "metadata": {},
   "outputs": [],
   "source": [
    "import pandas as pd\n",
    "import seaborn as sb\n",
    "import matplotlib.pyplot as plt\n",
    "\n",
    "COLUMNS = ['Date','Total_Cases','New_Daily_Cases','New_Daily_Deaths','Total_Deaths','Total_Recoveries']"
   ]
  },
  {
   "cell_type": "code",
   "execution_count": 57,
   "metadata": {},
   "outputs": [],
   "source": [
    "import requests\n",
    "import sys\n",
    "import csv\n",
    "import datetime\n",
    "\n",
    "def generate_csv(code):\n",
    "    url = \"https://thevirustracker.com/free-api?countryTimeline=\" + code\n",
    "\n",
    "    r = requests.get(url, headers={\"User-Agent\": \"XY\"})\n",
    "\n",
    "    data = r.json()\n",
    "    keys = data['timelineitems'][0].keys()\n",
    "    length = len(keys)\n",
    "    name = \"covid\" + code + \".csv\"\n",
    "    with open(name, 'w', newline='') as file:\n",
    "                writer = csv.writer(file)\n",
    "                for key in keys:\n",
    "                    if length > 2:\n",
    "                        row = []\n",
    "                        x = datetime.datetime.strptime(key, '%m/%d/%Y')\n",
    "                        xn = x - datetime.timedelta(days=1)\n",
    "                        date = xn.strftime(\"%m/%d/%Y\")\n",
    "                        row.append(date)\n",
    "                        row.append(data['timelineitems'][0][key]['total_cases'])\n",
    "                        row.append(data['timelineitems'][0][key]['new_daily_cases'])\n",
    "                        row.append(data['timelineitems'][0][key]['new_daily_deaths'])\n",
    "                        row.append(data['timelineitems'][0][key]['total_deaths'])\n",
    "                        row.append(data['timelineitems'][0][key]['total_recoveries'])\n",
    "                        writer.writerow(row)\n",
    "                        length-=1"
   ]
  },
  {
   "cell_type": "code",
   "execution_count": 63,
   "metadata": {},
   "outputs": [],
   "source": [
    "generate_csv(\"PT\")\n",
    "generate_csv(\"IT\")\n",
    "generate_csv(\"ES\")"
   ]
  },
  {
   "cell_type": "code",
   "execution_count": 61,
   "metadata": {},
   "outputs": [
    {
     "data": {
      "text/html": [
       "<div>\n",
       "<style scoped>\n",
       "    .dataframe tbody tr th:only-of-type {\n",
       "        vertical-align: middle;\n",
       "    }\n",
       "\n",
       "    .dataframe tbody tr th {\n",
       "        vertical-align: top;\n",
       "    }\n",
       "\n",
       "    .dataframe thead th {\n",
       "        text-align: right;\n",
       "    }\n",
       "</style>\n",
       "<table border=\"1\" class=\"dataframe\">\n",
       "  <thead>\n",
       "    <tr style=\"text-align: right;\">\n",
       "      <th></th>\n",
       "      <th>Date</th>\n",
       "      <th>Total_Cases</th>\n",
       "      <th>New_Daily_Cases</th>\n",
       "      <th>New_Daily_Deaths</th>\n",
       "      <th>Total_Deaths</th>\n",
       "      <th>Total_Recoveries</th>\n",
       "    </tr>\n",
       "  </thead>\n",
       "  <tbody>\n",
       "    <tr>\n",
       "      <th>0</th>\n",
       "      <td>03/01/2020</td>\n",
       "      <td>2</td>\n",
       "      <td>2</td>\n",
       "      <td>0</td>\n",
       "      <td>0</td>\n",
       "      <td>0</td>\n",
       "    </tr>\n",
       "    <tr>\n",
       "      <th>1</th>\n",
       "      <td>03/02/2020</td>\n",
       "      <td>2</td>\n",
       "      <td>0</td>\n",
       "      <td>0</td>\n",
       "      <td>0</td>\n",
       "      <td>0</td>\n",
       "    </tr>\n",
       "    <tr>\n",
       "      <th>2</th>\n",
       "      <td>03/03/2020</td>\n",
       "      <td>5</td>\n",
       "      <td>3</td>\n",
       "      <td>0</td>\n",
       "      <td>0</td>\n",
       "      <td>0</td>\n",
       "    </tr>\n",
       "    <tr>\n",
       "      <th>3</th>\n",
       "      <td>03/04/2020</td>\n",
       "      <td>9</td>\n",
       "      <td>4</td>\n",
       "      <td>0</td>\n",
       "      <td>0</td>\n",
       "      <td>0</td>\n",
       "    </tr>\n",
       "    <tr>\n",
       "      <th>4</th>\n",
       "      <td>03/05/2020</td>\n",
       "      <td>13</td>\n",
       "      <td>4</td>\n",
       "      <td>0</td>\n",
       "      <td>0</td>\n",
       "      <td>0</td>\n",
       "    </tr>\n",
       "  </tbody>\n",
       "</table>\n",
       "</div>"
      ],
      "text/plain": [
       "         Date  Total_Cases  New_Daily_Cases  New_Daily_Deaths  Total_Deaths  \\\n",
       "0  03/01/2020            2                2                 0             0   \n",
       "1  03/02/2020            2                0                 0             0   \n",
       "2  03/03/2020            5                3                 0             0   \n",
       "3  03/04/2020            9                4                 0             0   \n",
       "4  03/05/2020           13                4                 0             0   \n",
       "\n",
       "   Total_Recoveries  \n",
       "0                 0  \n",
       "1                 0  \n",
       "2                 0  \n",
       "3                 0  \n",
       "4                 0  "
      ]
     },
     "execution_count": 61,
     "metadata": {},
     "output_type": "execute_result"
    }
   ],
   "source": [
    "dataPT = pd.read_csv('covidPT.csv')\n",
    "dataPT.columns = COLUMNS\n",
    "dataPT.head()"
   ]
  },
  {
   "cell_type": "code",
   "execution_count": 65,
   "metadata": {},
   "outputs": [],
   "source": [
    "dataIT = pd.read_csv('covidIT.csv')\n",
    "dataIT.columns = COLUMNS\n",
    "dataES = pd.read_csv('covidES.csv')\n",
    "dataES.columns = COLUMNS"
   ]
  },
  {
   "cell_type": "code",
   "execution_count": 77,
   "metadata": {},
   "outputs": [
    {
     "data": {
      "text/plain": [
       "<matplotlib.axes._subplots.AxesSubplot at 0x7f0c63216a10>"
      ]
     },
     "execution_count": 77,
     "metadata": {},
     "output_type": "execute_result"
    },
    {
     "data": {
      "image/png": "[encoded data removed]",
      "text/plain": [
       "<Figure size 432x288 with 1 Axes>"
      ]
     },
     "metadata": {
      "needs_background": "light"
     },
     "output_type": "display_data"
    }
   ],
   "source": [
    "# Visualization\n",
    "X = dataPT.drop(columns=['New_Daily_Deaths','Date'], axis=0)\n",
    "y = dataPT['New_Daily_Deaths']\n",
    "\n",
    "time = dataIT.drop(columns=['New_Daily_Deaths','New_Daily_Cases','Total_Deaths','Total_Recoveries'], axis=0)\n",
    "time.head()\n",
    "sb.lineplot('Date','Total_Cases',data=time)"
   ]
  },
  {
   "cell_type": "code",
   "execution_count": 68,
   "metadata": {},
   "outputs": [
    {
     "data": {
      "text/plain": [
       "LinearRegression(copy_X=True, fit_intercept=True, n_jobs=None, normalize=False)"
      ]
     },
     "execution_count": 68,
     "metadata": {},
     "output_type": "execute_result"
    }
   ],
   "source": [
    "# Linear Regression\n",
    "\n",
    "\n",
    "\n",
    "from sklearn.linear_model import LinearRegression\n",
    "model_death = LinearRegression()\n",
    "model_death.fit(X,y)\n",
    "new_y = model.predict()"
   ]
  }
 ],
 "metadata": {
  "kernelspec": {
   "display_name": "Python 3.7.4 64-bit ('base': conda)",
   "language": "python",
   "name": "python37464bitbaseconda9372eea3c76d4133880fd0ae9a86542b"
  },
  "language_info": {
   "codemirror_mode": {
    "name": "ipython",
    "version": 3
   },
   "file_extension": ".py",
   "mimetype": "text/x-python",
   "name": "python",
   "nbconvert_exporter": "python",
   "pygments_lexer": "ipython3",
   "version": "3.7.6"
  }
 },
 "nbformat": 4,
 "nbformat_minor": 4
}
